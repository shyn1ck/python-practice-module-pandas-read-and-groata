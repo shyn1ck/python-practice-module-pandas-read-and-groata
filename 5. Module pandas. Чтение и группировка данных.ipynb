{
 "cells": [
  {
   "cell_type": "markdown",
   "metadata": {},
   "source": [
    "## Урок 5. Module Pandas. Read and Write"
   ]
  },
  {
   "cell_type": "markdown",
   "metadata": {},
   "source": [
    "\n",
    "### 1. Чтение данных из источника\n",
    "\n"
   ]
  },
  {
   "cell_type": "code",
   "execution_count": 1,
   "metadata": {},
   "outputs": [],
   "source": [
    "import pandas as pd\n",
    "# import perf_counter"
   ]
  },
  {
   "cell_type": "code",
   "execution_count": 26,
   "metadata": {},
   "outputs": [
    {
     "name": "stdout",
     "output_type": "stream",
     "text": [
      "CPU times: total: 0 ns\n",
      "Wall time: 0 ns\n"
     ]
    }
   ],
   "source": [
    "%%time\n",
    "excel_df = pd.read_csv(r\"C:\\Users\\Python\\Downloads\\Посещаемость учащихся p.2 - Лист1.csv\", header = 1)"
   ]
  },
  {
   "cell_type": "code",
   "execution_count": 4,
   "metadata": {},
   "outputs": [],
   "source": [
    "# %%time\n",
    "excel_df = pd.read_excel(r\"C:\\Users\\Python\\Downloads\\Посещаемость учащихся p.2 (1).xlsx\", header = 1)"
   ]
  },
  {
   "cell_type": "code",
   "execution_count": 12,
   "metadata": {},
   "outputs": [],
   "source": [
    "excel_df_2 = pd.read_excel(r\"C:\\Users\\Python\\Downloads\\Посещаемость учащихся p.2 (1).xlsx\")"
   ]
  },
  {
   "cell_type": "code",
   "execution_count": 3,
   "metadata": {},
   "outputs": [],
   "source": [
    "csv_df = pd.read_csv(r\"C:\\Users\\Python\\Downloads\\Посещаемость учащихся p.2 - Лист1.csv\", encoding = 'utf-8', header = 1)"
   ]
  },
  {
   "cell_type": "markdown",
   "metadata": {},
   "source": [
    "### 2. Запись данных"
   ]
  },
  {
   "cell_type": "code",
   "execution_count": 6,
   "metadata": {},
   "outputs": [
    {
     "data": {
      "text/plain": [
       "Index(['ФИО ', 'Урок 1', 'Unnamed: 2', 'Unnamed: 3', 'Урок 2 ', 'Unnamed: 5',\n",
       "       'Unnamed: 6', 'Урок 3', 'Unnamed: 8', 'Unnamed: 9', 'Урок 4',\n",
       "       'Unnamed: 11', 'Unnamed: 12', 'Урок 5', 'Unnamed: 14', 'Урок 6',\n",
       "       'Unnamed: 16', 'Unnamed: 17', 'Урок 7', 'Unnamed: 19', 'Урок 8',\n",
       "       'Unnamed: 21', 'Урок 9', 'Unnamed: 23', 'Урок 10', 'Unnamed: 25',\n",
       "       'Урок 11', 'Unnamed: 27', 'Урок 12', 'Unnamed: 29'],\n",
       "      dtype='object')"
      ]
     },
     "execution_count": 6,
     "metadata": {},
     "output_type": "execute_result"
    }
   ],
   "source": [
    "excel_df.columns"
   ]
  },
  {
   "cell_type": "code",
   "execution_count": 7,
   "metadata": {},
   "outputs": [
    {
     "data": {
      "text/plain": [
       "Index(['Урок 1', 'Unnamed: 2', 'Unnamed: 3', 'Урок 2 ', 'Unnamed: 5',\n",
       "       'Unnamed: 6', 'Урок 3', 'Unnamed: 8', 'Unnamed: 9', 'Урок 4',\n",
       "       'Unnamed: 11', 'Unnamed: 12', 'Урок 5', 'Unnamed: 14', 'Урок 6',\n",
       "       'Unnamed: 16', 'Unnamed: 17', 'Урок 7', 'Unnamed: 19', 'Урок 8',\n",
       "       'Unnamed: 21', 'Урок 9', 'Unnamed: 23', 'Урок 10', 'Unnamed: 25',\n",
       "       'Урок 11', 'Unnamed: 27', 'Урок 12', 'Unnamed: 29'],\n",
       "      dtype='object')"
      ]
     },
     "execution_count": 7,
     "metadata": {},
     "output_type": "execute_result"
    }
   ],
   "source": [
    "excel_df.columns[1:]"
   ]
  },
  {
   "cell_type": "code",
   "execution_count": 8,
   "metadata": {},
   "outputs": [],
   "source": [
    "excel_df['Кол-во посещений'] = excel_df[excel_df.columns[1:]].count(axis=1)\n",
    "\n",
    "\n",
    "# csv_df['Кол-во посещений'] = csv_df[csv_df.columns[1:]].count(axis=1)"
   ]
  },
  {
   "cell_type": "code",
   "execution_count": 21,
   "metadata": {},
   "outputs": [],
   "source": [
    "for_uploading = excel_df[['ФИО ', 'Кол-во посещений']].sort_values('Кол-во посещений', ascending=False)"
   ]
  },
  {
   "cell_type": "code",
   "execution_count": 23,
   "metadata": {},
   "outputs": [],
   "source": [
    "for_uploading.to_excel(r\"C:\\Users\\Python\\Downloads\\student_info.xlsx\", index=False)"
   ]
  },
  {
   "cell_type": "code",
   "execution_count": null,
   "metadata": {},
   "outputs": [],
   "source": []
  },
  {
   "cell_type": "code",
   "execution_count": null,
   "metadata": {},
   "outputs": [],
   "source": []
  },
  {
   "cell_type": "code",
   "execution_count": null,
   "metadata": {},
   "outputs": [],
   "source": []
  },
  {
   "cell_type": "code",
   "execution_count": null,
   "metadata": {},
   "outputs": [],
   "source": [
    "excel_df"
   ]
  },
  {
   "cell_type": "code",
   "execution_count": 19,
   "metadata": {},
   "outputs": [],
   "source": [
    "excel_df['Город'] = ['Токио', 'Душанбе', 'Дели', 'Рим', 'Эр-Рияд', 'Каир', 'Пекин', 'Осака', 'Нью-Йорк', 'Алмата', 'Ташкент', 'Чунцин', \n",
    "                     'Ташкент', 'Душанбе', 'Афины', 'Пекин', 'Тяньцзинь', 'Москва', 'Гуанчжоу', 'Москва']\n",
    "\n",
    "csv_df['Город'] = ['Токио', 'Душанбе', 'Дели', 'Рим', 'Эр-Рияд', 'Каир', 'Пекин', 'Осака', 'Нью-Йорк', 'Алмата', 'Ташкент', 'Чунцин', \n",
    "                     'Ташкент', 'Душанбе', 'Афины', 'Пекин', 'Тяньцзинь', 'Москва', 'Гуанчжоу', 'Москва']"
   ]
  },
  {
   "cell_type": "code",
   "execution_count": null,
   "metadata": {},
   "outputs": [],
   "source": [
    "excel_df"
   ]
  },
  {
   "cell_type": "code",
   "execution_count": 25,
   "metadata": {},
   "outputs": [],
   "source": [
    "excel_df.to_excel(r'C:\\Users\\User\\Desktop\\Excel\\example.xlsx', index=False)"
   ]
  },
  {
   "cell_type": "code",
   "execution_count": 23,
   "metadata": {},
   "outputs": [],
   "source": [
    "excel_df.to_csv(r'C:\\Users\\User\\Desktop\\CSV\\students.csv', index=False, encoding='utf-8')"
   ]
  },
  {
   "cell_type": "markdown",
   "metadata": {},
   "source": [
    "### 3.  Сводные таблицы в pandas **groupby() и pivot_table()**"
   ]
  },
  {
   "cell_type": "code",
   "execution_count": 24,
   "metadata": {},
   "outputs": [],
   "source": [
    "df = pd.DataFrame({\n",
    "    'Город': ['Душанбе', 'Куляб', 'Худжанд', 'Гисар', 'Дангара', 'Москва', 'Казань', 'Пермь'],\n",
    "    'Население': [12615882, 5398064, 1612833, 1483116, 1257391, 2140526, 870018, 515695],\n",
    "    'Страна': ['Таджикистан', 'Таджикистан', 'Таджикистан', 'Таджикистан', 'Таджикистан', 'Россия', 'Россия', 'Россия']\n",
    "})"
   ]
  },
  {
   "cell_type": "code",
   "execution_count": 29,
   "metadata": {},
   "outputs": [
    {
     "data": {
      "text/html": [
       "<div>\n",
       "<style scoped>\n",
       "    .dataframe tbody tr th:only-of-type {\n",
       "        vertical-align: middle;\n",
       "    }\n",
       "\n",
       "    .dataframe tbody tr th {\n",
       "        vertical-align: top;\n",
       "    }\n",
       "\n",
       "    .dataframe thead th {\n",
       "        text-align: right;\n",
       "    }\n",
       "</style>\n",
       "<table border=\"1\" class=\"dataframe\">\n",
       "  <thead>\n",
       "    <tr style=\"text-align: right;\">\n",
       "      <th></th>\n",
       "      <th>Город</th>\n",
       "      <th>Население</th>\n",
       "      <th>Страна</th>\n",
       "    </tr>\n",
       "  </thead>\n",
       "  <tbody>\n",
       "    <tr>\n",
       "      <th>0</th>\n",
       "      <td>Душанбе</td>\n",
       "      <td>12615882</td>\n",
       "      <td>Таджикистан</td>\n",
       "    </tr>\n",
       "    <tr>\n",
       "      <th>1</th>\n",
       "      <td>Куляб</td>\n",
       "      <td>5398064</td>\n",
       "      <td>Таджикистан</td>\n",
       "    </tr>\n",
       "    <tr>\n",
       "      <th>2</th>\n",
       "      <td>Худжанд</td>\n",
       "      <td>1612833</td>\n",
       "      <td>Таджикистан</td>\n",
       "    </tr>\n",
       "    <tr>\n",
       "      <th>3</th>\n",
       "      <td>Гисар</td>\n",
       "      <td>1483116</td>\n",
       "      <td>Таджикистан</td>\n",
       "    </tr>\n",
       "    <tr>\n",
       "      <th>4</th>\n",
       "      <td>Дангара</td>\n",
       "      <td>1257391</td>\n",
       "      <td>Таджикистан</td>\n",
       "    </tr>\n",
       "  </tbody>\n",
       "</table>\n",
       "</div>"
      ],
      "text/plain": [
       "     Город  Население       Страна\n",
       "0  Душанбе   12615882  Таджикистан\n",
       "1    Куляб    5398064  Таджикистан\n",
       "2  Худжанд    1612833  Таджикистан\n",
       "3    Гисар    1483116  Таджикистан\n",
       "4  Дангара    1257391  Таджикистан"
      ]
     },
     "execution_count": 29,
     "metadata": {},
     "output_type": "execute_result"
    }
   ],
   "source": [
    "df[df['Страна'].eq('Таджикистан')]"
   ]
  },
  {
   "cell_type": "code",
   "execution_count": 31,
   "metadata": {},
   "outputs": [
    {
     "name": "stdout",
     "output_type": "stream",
     "text": [
      "22367286\n",
      "3526239\n"
     ]
    }
   ],
   "source": [
    "print((df[df['Страна'].eq('Таджикистан')]['Население'].sum()))\n",
    "print(df[df['Страна'].eq('Россия')]['Население'].sum())"
   ]
  },
  {
   "cell_type": "code",
   "execution_count": 49,
   "metadata": {},
   "outputs": [
    {
     "data": {
      "text/plain": [
       "array(['Таджикистан', 'Россия'], dtype=object)"
      ]
     },
     "execution_count": 49,
     "metadata": {},
     "output_type": "execute_result"
    }
   ],
   "source": [
    "df['Страна'].unique()"
   ]
  },
  {
   "cell_type": "code",
   "execution_count": null,
   "metadata": {},
   "outputs": [],
   "source": []
  },
  {
   "cell_type": "code",
   "execution_count": 83,
   "metadata": {},
   "outputs": [],
   "source": [
    "grouped = df.groupby(['Страна', 'Город']).agg(\n",
    "                                    city_quantity=('Население', 'count'),\n",
    "                                    summary=('Население', 'sum'),\n",
    "                                    )"
   ]
  },
  {
   "cell_type": "code",
   "execution_count": 57,
   "metadata": {},
   "outputs": [],
   "source": [
    "x = grouped.T"
   ]
  },
  {
   "cell_type": "code",
   "execution_count": 79,
   "metadata": {},
   "outputs": [
    {
     "data": {
      "text/html": [
       "<div>\n",
       "<style scoped>\n",
       "    .dataframe tbody tr th:only-of-type {\n",
       "        vertical-align: middle;\n",
       "    }\n",
       "\n",
       "    .dataframe tbody tr th {\n",
       "        vertical-align: top;\n",
       "    }\n",
       "\n",
       "    .dataframe thead th {\n",
       "        text-align: right;\n",
       "    }\n",
       "</style>\n",
       "<table border=\"1\" class=\"dataframe\">\n",
       "  <thead>\n",
       "    <tr style=\"text-align: right;\">\n",
       "      <th>Страна</th>\n",
       "      <th>Россия</th>\n",
       "      <th>Таджикистан</th>\n",
       "    </tr>\n",
       "  </thead>\n",
       "  <tbody>\n",
       "    <tr>\n",
       "      <th>summary</th>\n",
       "      <td>3526239</td>\n",
       "      <td>22367286</td>\n",
       "    </tr>\n",
       "    <tr>\n",
       "      <th>city_quantity</th>\n",
       "      <td>3</td>\n",
       "      <td>5</td>\n",
       "    </tr>\n",
       "  </tbody>\n",
       "</table>\n",
       "</div>"
      ],
      "text/plain": [
       "Страна          Россия  Таджикистан\n",
       "summary        3526239     22367286\n",
       "city_quantity        3            5"
      ]
     },
     "execution_count": 79,
     "metadata": {},
     "output_type": "execute_result"
    }
   ],
   "source": [
    "x"
   ]
  },
  {
   "cell_type": "code",
   "execution_count": 60,
   "metadata": {},
   "outputs": [
    {
     "data": {
      "text/html": [
       "<div>\n",
       "<style scoped>\n",
       "    .dataframe tbody tr th:only-of-type {\n",
       "        vertical-align: middle;\n",
       "    }\n",
       "\n",
       "    .dataframe tbody tr th {\n",
       "        vertical-align: top;\n",
       "    }\n",
       "\n",
       "    .dataframe thead th {\n",
       "        text-align: right;\n",
       "    }\n",
       "</style>\n",
       "<table border=\"1\" class=\"dataframe\">\n",
       "  <thead>\n",
       "    <tr style=\"text-align: right;\">\n",
       "      <th>Страна</th>\n",
       "      <th>Россия</th>\n",
       "      <th>Таджикистан</th>\n",
       "    </tr>\n",
       "  </thead>\n",
       "  <tbody>\n",
       "    <tr>\n",
       "      <th>summary</th>\n",
       "      <td>3526239</td>\n",
       "      <td>22367286</td>\n",
       "    </tr>\n",
       "  </tbody>\n",
       "</table>\n",
       "</div>"
      ],
      "text/plain": [
       "Страна    Россия  Таджикистан\n",
       "summary  3526239     22367286"
      ]
     },
     "execution_count": 60,
     "metadata": {},
     "output_type": "execute_result"
    }
   ],
   "source": [
    "x[x['Россия'].eq(3526239)]"
   ]
  },
  {
   "cell_type": "code",
   "execution_count": 61,
   "metadata": {},
   "outputs": [
    {
     "data": {
      "text/html": [
       "<div>\n",
       "<style scoped>\n",
       "    .dataframe tbody tr th:only-of-type {\n",
       "        vertical-align: middle;\n",
       "    }\n",
       "\n",
       "    .dataframe tbody tr th {\n",
       "        vertical-align: top;\n",
       "    }\n",
       "\n",
       "    .dataframe thead th {\n",
       "        text-align: right;\n",
       "    }\n",
       "</style>\n",
       "<table border=\"1\" class=\"dataframe\">\n",
       "  <thead>\n",
       "    <tr style=\"text-align: right;\">\n",
       "      <th></th>\n",
       "      <th>Город</th>\n",
       "      <th>Население</th>\n",
       "      <th>Страна</th>\n",
       "    </tr>\n",
       "  </thead>\n",
       "  <tbody>\n",
       "    <tr>\n",
       "      <th>0</th>\n",
       "      <td>Душанбе</td>\n",
       "      <td>12615882</td>\n",
       "      <td>Таджикистан</td>\n",
       "    </tr>\n",
       "    <tr>\n",
       "      <th>1</th>\n",
       "      <td>Куляб</td>\n",
       "      <td>5398064</td>\n",
       "      <td>Таджикистан</td>\n",
       "    </tr>\n",
       "    <tr>\n",
       "      <th>2</th>\n",
       "      <td>Худжанд</td>\n",
       "      <td>1612833</td>\n",
       "      <td>Таджикистан</td>\n",
       "    </tr>\n",
       "    <tr>\n",
       "      <th>3</th>\n",
       "      <td>Гисар</td>\n",
       "      <td>1483116</td>\n",
       "      <td>Таджикистан</td>\n",
       "    </tr>\n",
       "    <tr>\n",
       "      <th>4</th>\n",
       "      <td>Дангара</td>\n",
       "      <td>1257391</td>\n",
       "      <td>Таджикистан</td>\n",
       "    </tr>\n",
       "    <tr>\n",
       "      <th>5</th>\n",
       "      <td>Москва</td>\n",
       "      <td>2140526</td>\n",
       "      <td>Россия</td>\n",
       "    </tr>\n",
       "    <tr>\n",
       "      <th>6</th>\n",
       "      <td>Казань</td>\n",
       "      <td>870018</td>\n",
       "      <td>Россия</td>\n",
       "    </tr>\n",
       "    <tr>\n",
       "      <th>7</th>\n",
       "      <td>Пермь</td>\n",
       "      <td>515695</td>\n",
       "      <td>Россия</td>\n",
       "    </tr>\n",
       "  </tbody>\n",
       "</table>\n",
       "</div>"
      ],
      "text/plain": [
       "     Город  Население       Страна\n",
       "0  Душанбе   12615882  Таджикистан\n",
       "1    Куляб    5398064  Таджикистан\n",
       "2  Худжанд    1612833  Таджикистан\n",
       "3    Гисар    1483116  Таджикистан\n",
       "4  Дангара    1257391  Таджикистан\n",
       "5   Москва    2140526       Россия\n",
       "6   Казань     870018       Россия\n",
       "7    Пермь     515695       Россия"
      ]
     },
     "execution_count": 61,
     "metadata": {},
     "output_type": "execute_result"
    }
   ],
   "source": [
    "df"
   ]
  },
  {
   "cell_type": "code",
   "execution_count": 66,
   "metadata": {},
   "outputs": [],
   "source": [
    "pivot = df.pivot_table(index=['Страна', 'Город'], values='Население', aggfunc=('count', 'sum'), fill_value=0)"
   ]
  },
  {
   "cell_type": "code",
   "execution_count": 74,
   "metadata": {},
   "outputs": [],
   "source": [
    "import numpy as np"
   ]
  },
  {
   "cell_type": "code",
   "execution_count": 67,
   "metadata": {},
   "outputs": [
    {
     "data": {
      "text/html": [
       "<div>\n",
       "<style scoped>\n",
       "    .dataframe tbody tr th:only-of-type {\n",
       "        vertical-align: middle;\n",
       "    }\n",
       "\n",
       "    .dataframe tbody tr th {\n",
       "        vertical-align: top;\n",
       "    }\n",
       "\n",
       "    .dataframe thead th {\n",
       "        text-align: right;\n",
       "    }\n",
       "</style>\n",
       "<table border=\"1\" class=\"dataframe\">\n",
       "  <thead>\n",
       "    <tr style=\"text-align: right;\">\n",
       "      <th></th>\n",
       "      <th></th>\n",
       "      <th>count</th>\n",
       "      <th>sum</th>\n",
       "    </tr>\n",
       "    <tr>\n",
       "      <th>Страна</th>\n",
       "      <th>Город</th>\n",
       "      <th></th>\n",
       "      <th></th>\n",
       "    </tr>\n",
       "  </thead>\n",
       "  <tbody>\n",
       "    <tr>\n",
       "      <th rowspan=\"3\" valign=\"top\">Россия</th>\n",
       "      <th>Казань</th>\n",
       "      <td>1</td>\n",
       "      <td>870018</td>\n",
       "    </tr>\n",
       "    <tr>\n",
       "      <th>Москва</th>\n",
       "      <td>1</td>\n",
       "      <td>2140526</td>\n",
       "    </tr>\n",
       "    <tr>\n",
       "      <th>Пермь</th>\n",
       "      <td>1</td>\n",
       "      <td>515695</td>\n",
       "    </tr>\n",
       "    <tr>\n",
       "      <th rowspan=\"5\" valign=\"top\">Таджикистан</th>\n",
       "      <th>Гисар</th>\n",
       "      <td>1</td>\n",
       "      <td>1483116</td>\n",
       "    </tr>\n",
       "    <tr>\n",
       "      <th>Дангара</th>\n",
       "      <td>1</td>\n",
       "      <td>1257391</td>\n",
       "    </tr>\n",
       "    <tr>\n",
       "      <th>Душанбе</th>\n",
       "      <td>1</td>\n",
       "      <td>12615882</td>\n",
       "    </tr>\n",
       "    <tr>\n",
       "      <th>Куляб</th>\n",
       "      <td>1</td>\n",
       "      <td>5398064</td>\n",
       "    </tr>\n",
       "    <tr>\n",
       "      <th>Худжанд</th>\n",
       "      <td>1</td>\n",
       "      <td>1612833</td>\n",
       "    </tr>\n",
       "  </tbody>\n",
       "</table>\n",
       "</div>"
      ],
      "text/plain": [
       "                     count       sum\n",
       "Страна      Город                   \n",
       "Россия      Казань       1    870018\n",
       "            Москва       1   2140526\n",
       "            Пермь        1    515695\n",
       "Таджикистан Гисар        1   1483116\n",
       "            Дангара      1   1257391\n",
       "            Душанбе      1  12615882\n",
       "            Куляб        1   5398064\n",
       "            Худжанд      1   1612833"
      ]
     },
     "execution_count": 67,
     "metadata": {},
     "output_type": "execute_result"
    }
   ],
   "source": [
    "pivot"
   ]
  },
  {
   "cell_type": "code",
   "execution_count": null,
   "metadata": {},
   "outputs": [],
   "source": [
    "\n",
    "\n",
    "# Группируем по столбцу 'Страна' и вычисляем сумму и количество для столбца 'Население'\n",
    "# grouped = df.groupby('Страна').agg(\n",
    "#                                     {'Население': [('Общее население', 'sum'), ('Кол-во городов', 'count')]}\n",
    "#                                 )\n",
    "\n",
    "# grouped"
   ]
  },
  {
   "cell_type": "code",
   "execution_count": 68,
   "metadata": {},
   "outputs": [],
   "source": [
    "df = pd.DataFrame({\n",
    "    'Город': ['Душанбе', 'Куляб', 'Худжанд', 'Гисар', 'Дангара', 'Душанбе', 'Казань', 'Пермь'],\n",
    "    'Население': [12615882, 5398064, 1612833, 1483116, 1257391, 2140526, 870018, 515695],\n",
    "    'Страна': ['Таджикистан', 'Таджикистан', 'Таджикистан', 'Таджикистан', 'Таджикистан', 'Таджикистан', 'Россия', 'Россия']\n",
    "})\n",
    "\n",
    "grouped = df.groupby(['Страна', 'Город']).agg(\n",
    "    {'Население': [('Общее населения', 'sum'), ('Кол-во городов', 'count')]}\n",
    "                                   )"
   ]
  },
  {
   "cell_type": "code",
   "execution_count": null,
   "metadata": {},
   "outputs": [],
   "source": [
    "type(grouped)"
   ]
  },
  {
   "cell_type": "code",
   "execution_count": 73,
   "metadata": {},
   "outputs": [],
   "source": [
    "grouped.to_excel(r\"C:\\Users\\User\\Desktop\\Excel\\group.xlsx\")"
   ]
  },
  {
   "cell_type": "code",
   "execution_count": null,
   "metadata": {},
   "outputs": [],
   "source": [
    "grouped"
   ]
  },
  {
   "cell_type": "code",
   "execution_count": 62,
   "metadata": {},
   "outputs": [],
   "source": [
    "pivot = df.pivot_table(index=['Страна', 'Город'], values='Население', aggfunc=('size', 'sum'))"
   ]
  },
  {
   "cell_type": "code",
   "execution_count": null,
   "metadata": {},
   "outputs": [],
   "source": [
    "type(pivot)"
   ]
  },
  {
   "cell_type": "code",
   "execution_count": null,
   "metadata": {},
   "outputs": [],
   "source": [
    "pivot.columns"
   ]
  },
  {
   "cell_type": "code",
   "execution_count": 60,
   "metadata": {},
   "outputs": [],
   "source": [
    "pivot.columns = ['Кол-во городов', 'Общее население']"
   ]
  },
  {
   "cell_type": "code",
   "execution_count": 86,
   "metadata": {},
   "outputs": [],
   "source": [
    "import random"
   ]
  },
  {
   "cell_type": "code",
   "execution_count": 88,
   "metadata": {},
   "outputs": [],
   "source": [
    "np.random.seed(0)\n",
    "\n",
    "data = {\n",
    "        'transaction_id': np.random.randint(1, 201),\n",
    "        'customer_id':  np.random.randint(1, 10, 200),\n",
    "        'amount': np.random.randint(50, 500, 200),\n",
    "        'deb_type': np.random.choice(['Путешествия', 'Компы', 'Еда', 'Учеба'], 200)\n",
    "}"
   ]
  },
  {
   "cell_type": "code",
   "execution_count": 89,
   "metadata": {},
   "outputs": [],
   "source": [
    "df = pd.DataFrame(data)"
   ]
  },
  {
   "cell_type": "code",
   "execution_count": 93,
   "metadata": {},
   "outputs": [],
   "source": [
    "df.to_excel(r\"C:\\Users\\Python\\Downloads\\cw_task.xlsx\", index=False)"
   ]
  },
  {
   "cell_type": "code",
   "execution_count": null,
   "metadata": {},
   "outputs": [],
   "source": [
    "pivot"
   ]
  },
  {
   "cell_type": "markdown",
   "metadata": {},
   "source": [
    "## Задача на занятии:\n",
    "\n",
    "1)Прочтите Excel-файл находящийся в гугл-диске в папке `Data for work`.\n",
    "\n",
    "2)Добавьте классификацию:\n",
    "\n",
    "Добавьте новую колонку `amount_category`, которая будет указывать на категорию суммы транзакции. Классификация может быть следующей:\n",
    "- Low: сумма от 50 до 150\n",
    "- Medium: сумма от 151 до 300\n",
    "- High: сумма больше 300\n",
    "Используйте `apply` и `lambda` функцию для создания этой классификации.\n",
    "\n",
    "3)Сделайте группировку по amount_category и category, чтобы посчитать общую сумму (amount) для каждой категории и их подкатегории.\n",
    "\n",
    "4)Создайте сводную таблицу (pivot table):\n",
    "\n",
    "- Постройте сводную таблицу, которая покажет суммарные значения для каждой комбинации category и amount_category. \n",
    "- Убедитесь, что значения сводной таблицы сортируются по сумме транзакций по убыванию.\n",
    "\n",
    "5)Выведите на экран результат 3 и 4 задачи "
   ]
  }
 ],
 "metadata": {
  "kernelspec": {
   "display_name": "base",
   "language": "python",
   "name": "python3"
  },
  "language_info": {
   "codemirror_mode": {
    "name": "ipython",
    "version": 3
   },
   "file_extension": ".py",
   "mimetype": "text/x-python",
   "name": "python",
   "nbconvert_exporter": "python",
   "pygments_lexer": "ipython3",
   "version": "3.12.4"
  }
 },
 "nbformat": 4,
 "nbformat_minor": 2
}
